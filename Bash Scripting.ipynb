{
 "cells": [
  {
   "cell_type": "markdown",
   "metadata": {},
   "source": [
    ":: `Bash Scripting` ::\n",
    "\n",
    "Here's how we can start:\n",
    "\n",
    ":: `Introduction to Bash Scripting` ::\n",
    "\n",
    "1. **Basics of Bash:**\n",
    "   - Bash is a command language interpreter for Unix-like systems.\n",
    "   - It allows you to write scripts to automate complex, repetitive tasks.\n",
    "\n",
    "2. **Creating Your First Script:**\n",
    "   - Open your terminal.\n",
    "   - Use a text editor to create a new file. For instance, type `nano myscript.sh`.\n",
    "   - Add the following line to the file: `echo \"Hello, World!\"`. This script just prints \"Hello, World!\" to the console.\n",
    "   - After editing the file in nano, you save it by pressing Ctrl + O, then Enter, and exit nano with Ctrl + X.\n",
    "\n",
    "3. **Making the Script Executable:**\n",
    "   - Save the file and exit the editor.\n",
    "   - In the terminal, type `chmod +x myscript.sh` to make your script executable.\n",
    "   - Run it by typing `./myscript.sh`.\n",
    "   \n",
    ":: `what is the difference between ` ::\n",
    "\n",
    "chmod +x myscript.sh\n",
    "chmod a+x myscript.sh ? \n",
    "\n",
    "1.\tchmod +x myscript.sh:\n",
    "- This command makes myscript.sh executable by the user who owns the file.\n",
    "- If you are the owner of the file, this command allows you to execute it.\n",
    "- It doesn’t change the executable permissions for the group and others.\n",
    "\t\n",
    "2.\tchmod a+x myscript.sh:\n",
    "- a stands for “all”, meaning all users.\n",
    "- This command adds executable permissions to the file for everyone (user, group, and others).\n",
    "- It’s a more inclusive permission setting, ensuring that any user on the system can execute the script.\n",
    "\n",
    "4. **Basic Structure of a Bash Script:**\n",
    "   - The first line of a bash script is usually `#!/bin/bash` which tells the system to execute the script in a bash shell.\n",
    "   - Comments are added using `#`.\n",
    "\n",
    ":: `First Concepts to Learn` ::\n",
    "\n",
    "1. **Variables:**\n",
    "   - Assigning values to variables: `varname=value`.\n",
    "   - Accessing variable values: `$varname`.\n",
    "\n",
    "2. **Control Structures:**\n",
    "   - `if` statements, `for` loops, `while` loops, `case` statements.\n",
    "\n",
    "3. **Positional Parameters:**\n",
    "   - `$0, $1, $2, ...` represent the script name and the arguments passed to it.\n",
    "\n",
    "4. **Reading User Input:**\n",
    "   - `read` command.\n",
    "\n",
    "5. **Basic Commands:**\n",
    "   - `echo`, `printf` for output.\n",
    "   - `grep`, `awk`, `sed` for text processing."
   ]
  },
  {
   "cell_type": "markdown",
   "metadata": {},
   "source": [
    ":: `Next steps` ::\n",
    "\n",
    "•\tPractice: Try modifying the script to do something else, like listing files in a directory.\n",
    "\n",
    "•\tExperiment: The best way to learn scripting is by doing. Try to automate a simple task you do daily.\n",
    "\n",
    "•\tStudy Examples: Look at existing scripts to see how they work.\n",
    "\n",
    "•\tResources: There are many free resources online to learn bash scripting.\n",
    "\n",
    ":: `1. Creating Variables `::\n",
    "\n",
    "To create a variable, you just assign a value to a name. In Bash, you don't need to declare a variable's type. Here's an example:"
   ]
  },
  {
   "cell_type": "code",
   "execution_count": null,
   "metadata": {
    "vscode": {
     "languageId": "shellscript"
    }
   },
   "outputs": [],
   "source": [
    "my_name=\"Ahmed\"\n",
    "my_age=25"
   ]
  },
  {
   "cell_type": "markdown",
   "metadata": {},
   "source": [
    "In this example, `my_name` is a string variable containing `\"Ahmed\"`, and `my_age` is an integer variable containing `25`.\n",
    "\n",
    ":: `2. Using Variables` ::\n",
    "\n",
    "To use a variable, prefix it with a `$`. Here's how to echo them:"
   ]
  },
  {
   "cell_type": "code",
   "execution_count": null,
   "metadata": {
    "vscode": {
     "languageId": "shellscript"
    }
   },
   "outputs": [],
   "source": [
    "echo \"My name is $my_name and I am $my_age years old.\""
   ]
  },
  {
   "cell_type": "markdown",
   "metadata": {},
   "source": [
    "This will output: `My name is Ahmed and I am 25 years old`.\n",
    "\n",
    ":: `3. Read-Only Variables` ::\n",
    "\n",
    "You can make a variable read-only by using the `readonly` command. This means you can't change its value later in the script."
   ]
  },
  {
   "cell_type": "code",
   "execution_count": null,
   "metadata": {
    "vscode": {
     "languageId": "shellscript"
    }
   },
   "outputs": [],
   "source": [
    "readonly my_constant=\"This value cannot change\""
   ]
  },
  {
   "cell_type": "markdown",
   "metadata": {},
   "source": [
    ":: `4. Command Substitution` ::\n",
    "\n",
    "You can store the output of a command in a variable using command substitution."
   ]
  },
  {
   "cell_type": "code",
   "execution_count": null,
   "metadata": {
    "vscode": {
     "languageId": "shellscript"
    }
   },
   "outputs": [],
   "source": [
    "current_date=$(date)\n",
    "echo \"Today is $current_date\""
   ]
  },
  {
   "cell_type": "markdown",
   "metadata": {},
   "source": [
    "This will display the current date and time.\n",
    "\n",
    ":: `5. Arithmetic Operations` ::\n",
    "\n",
    "For arithmetic operations, you can use the `$((expression))` syntax."
   ]
  },
  {
   "cell_type": "code",
   "execution_count": null,
   "metadata": {
    "vscode": {
     "languageId": "shellscript"
    }
   },
   "outputs": [],
   "source": [
    "a=5\n",
    "b=3\n",
    "sum=$((a + b))\n",
    "echo \"The sum is $sum\""
   ]
  },
  {
   "cell_type": "markdown",
   "metadata": {},
   "source": [
    "This will output: `The sum is 8`.\n",
    "\n",
    ":: `6. Environment Variables` ::\n",
    "\n",
    "Environment variables are available system-wide, not just in your script. For instance, `$HOME` contains your home directory path."
   ]
  },
  {
   "cell_type": "code",
   "execution_count": null,
   "metadata": {
    "vscode": {
     "languageId": "shellscript"
    }
   },
   "outputs": [],
   "source": [
    "echo \"Your home directory is $HOME\""
   ]
  },
  {
   "cell_type": "markdown",
   "metadata": {},
   "source": [
    ":: `7. Updating Variables` ::\n",
    "\n",
    "You can update the value of a variable by simply reassigning it."
   ]
  },
  {
   "cell_type": "code",
   "execution_count": null,
   "metadata": {
    "vscode": {
     "languageId": "shellscript"
    }
   },
   "outputs": [],
   "source": [
    "my_city=\"Cairo\"\n",
    "echo \"City: $my_city\"\n",
    "\n",
    "# Changing the value\n",
    "my_city=\"Alexandria\"\n",
    "echo \"Updated City: $my_city\""
   ]
  },
  {
   "cell_type": "markdown",
   "metadata": {},
   "source": [
    "This will output \"City: Cairo\" and then \"Updated City: Alexandria.\""
   ]
  },
  {
   "cell_type": "markdown",
   "metadata": {},
   "source": [
    "These examples cover the basics of variable usage in Bash scripting. You can use variables for various purposes like storing user input, temporary data, file paths, and configuration settings.\n",
    "\n",
    ":: `so echo is like print in python ?` ::\n",
    "\n",
    "Yes, exactly! In Bash scripting, `echo` is similar to `print` in Python. It's used to display text or the value of variables to the standard output, which is usually the terminal screen. \n",
    "\n",
    "Here are some examples to illustrate this:\n",
    "\n"
   ]
  },
  {
   "cell_type": "markdown",
   "metadata": {},
   "source": [
    "1.\t`Printing Text`: The `echo` command is used to display text. For example, ﻿echo \"Hello, world!\" will print \"Hello, world!\" to the terminal.\n",
    "\n",
    "2.\t`Printing Variables`: By using the `$` symbol before a variable name, you can print the value stored in the variable. For instance, `my_var=\"Welcome to Bash scripting\"` followed by `echo $my_var` will print \"Welcome to Bash scripting\".\n",
    "\n",
    "3.\t`Combining Text and Variables`: You can include variables within text by using the `$` symbol and enclosing the variable name in double quotes. For example, if `user=\"Ahmed\"`, then `echo \"Hello, $user!\"` will print \"Hello, Ahmed!\".\n",
    "\n",
    "4.\t`Using Options`: The `echo` command also supports options. Two common options are `-n` and `-e`. \n",
    "\n",
    "`-n` prevents the trailing newline character, while `-e` enables the interpretation of special characters, such as `\\n` for newlines.\n",
    "\n",
    "5.\t`Echo with Special Characters`: The `-e` option allows the interpretation of special characters. In your example, `echo -e \"Line1\\nLine2\"` interprets `\\n` as a newline character, resulting in \"Line1\" and \"Line2\" being printed on separate lines."
   ]
  },
  {
   "cell_type": "markdown",
   "metadata": {},
   "source": [
    "In summary, the `echo` command is used to print both static text and the values of variables in Bash scripting, similar to the `print` function in Python.\n",
    "\n",
    "`Now, moving on to ﻿if statements`:\n",
    "\n",
    "In Bash scripting, `if statements` are used to make decisions based on conditions. The basic syntax of an `if` statement in Bash is as follows:"
   ]
  },
  {
   "cell_type": "code",
   "execution_count": null,
   "metadata": {
    "vscode": {
     "languageId": "shellscript"
    }
   },
   "outputs": [],
   "source": [
    "if [ condition ]; then\n",
    "  # commands to be executed if the condition is true\n",
    "fi"
   ]
  },
  {
   "cell_type": "markdown",
   "metadata": {},
   "source": [
    "Here are a couple of examples:\n",
    "\n",
    ":: `Example 1` :: Checking Numbers"
   ]
  },
  {
   "cell_type": "code",
   "execution_count": null,
   "metadata": {
    "vscode": {
     "languageId": "shellscript"
    }
   },
   "outputs": [],
   "source": [
    "num=10\n",
    "if [ $num -gt 5 ]; then\n",
    "  echo \"The number is greater than 5\"\n",
    "fi"
   ]
  },
  {
   "cell_type": "markdown",
   "metadata": {},
   "source": [
    "In this example, the script checks if the value of the variable ﻿num is greater than 5. If the condition is true, the message \"The number is greater than 5\" will be printed.\n",
    "\n",
    ":: `Example 2` :: Using Else"
   ]
  },
  {
   "cell_type": "code",
   "execution_count": null,
   "metadata": {
    "vscode": {
     "languageId": "shellscript"
    }
   },
   "outputs": [],
   "source": [
    "num=4\n",
    "if [ $num -gt 5 ]; then\n",
    "  echo \"The number is greater than 5\"\n",
    "else\n",
    "  echo \"The number is less than or equal to 5\"\n",
    "fi"
   ]
  },
  {
   "cell_type": "markdown",
   "metadata": {},
   "source": [
    "In this example, an `else` clause is included to handle the case where the condition is not met. If the value of `num` is not greater than 5, the message \"The number is less than or equal to 5\" will be printed.\n",
    "\n",
    "These examples demonstrate the basic usage of `if statements` in Bash scripting. They allow you to execute specific commands or perform certain actions based on the evaluation of conditions.\n",
    "\n",
    ":: `Example 3: Else If (elif)` ::"
   ]
  },
  {
   "cell_type": "code",
   "execution_count": null,
   "metadata": {
    "vscode": {
     "languageId": "shellscript"
    }
   },
   "outputs": [],
   "source": [
    "num=5\n",
    "if [ $num -gt 5 ]; then\n",
    "  echo \"The number is greater than 5\"\n",
    "elif [ $num -eq 5 ]; then\n",
    "  echo \"The number is equal to 5\"\n",
    "else\n",
    "  echo \"The number is less than 5\"\n",
    "fi"
   ]
  },
  {
   "cell_type": "markdown",
   "metadata": {},
   "source": [
    "The `elif` statement allows you to add more conditions to your script.\n",
    "\n",
    ":: `Example 4: String Comparison` ::"
   ]
  },
  {
   "cell_type": "code",
   "execution_count": null,
   "metadata": {
    "vscode": {
     "languageId": "shellscript"
    }
   },
   "outputs": [],
   "source": [
    "name=\"Ahmed\"\n",
    "if [ \"$name\" == \"Ahmed\" ]; then\n",
    "  echo \"Hello, Ahmed!\"\n",
    "fi"
   ]
  },
  {
   "cell_type": "markdown",
   "metadata": {},
   "source": [
    "In this example, the script checks if the variable `name` is equal to the string \"Ahmed\". If the condition is true, it prints \"Hello, Ahmed!\".\n",
    "\n",
    ":: `Example 5: File Checks` ::"
   ]
  },
  {
   "cell_type": "code",
   "execution_count": null,
   "metadata": {
    "vscode": {
     "languageId": "shellscript"
    }
   },
   "outputs": [],
   "source": [
    "filename=\"example.txt\"\n",
    "if [ -e $filename ]; then\n",
    "  echo \"$filename exists.\"\n",
    "fi"
   ]
  },
  {
   "cell_type": "markdown",
   "metadata": {},
   "source": [
    "This example checks if the file named `example.txt` exists. If it does, it prints \"$filename exists.\"\n",
    "\n",
    "\n",
    "**Notes on Syntax**\n",
    "\n",
    "- Spaces around `[` and `]` are required.\n",
    "\n",
    "- For string comparisons, it's important to quote variables to handle spaces correctly.\n",
    "\n",
    "- `-gt`, `-lt`, `-eq`, etc. are used for numerical comparisons (greater than, less than, equal to).\n",
    "\n",
    "- `-e`, `-d`, `-f`, etc. are used for file checks (exists, is a directory, is a regular file).\n",
    "\n",
    "\n",
    "If statements in Bash are powerful tools for controlling the flow of a script based on different conditions.\n",
    "\n",
    "##### **For loops**\n",
    "\n",
    "In Bash scripting, `for` loops are used to execute a series of commands repeatedly for each item in a list or range. Here are some examples to demonstrate their usage:\n",
    "\n",
    ":: `Basic Syntax:` ::\n"
   ]
  },
  {
   "cell_type": "code",
   "execution_count": null,
   "metadata": {
    "vscode": {
     "languageId": "shellscript"
    }
   },
   "outputs": [],
   "source": [
    "for variable in list\n",
    "do\n",
    "  # commands to execute for each item in the list\n",
    "done\n"
   ]
  },
  {
   "cell_type": "markdown",
   "metadata": {},
   "source": [
    ":: `Example 1: Looping Over a List of Values:` ::"
   ]
  },
  {
   "cell_type": "code",
   "execution_count": null,
   "metadata": {
    "vscode": {
     "languageId": "shellscript"
    }
   },
   "outputs": [],
   "source": [
    "for name in Alice Bob Charlie\n",
    "do\n",
    "  echo \"Hello, $name!\"\n",
    "done"
   ]
  },
  {
   "cell_type": "markdown",
   "metadata": {},
   "source": [
    "This example prints a greeting for each name in the list, resulting in:"
   ]
  },
  {
   "cell_type": "code",
   "execution_count": null,
   "metadata": {
    "vscode": {
     "languageId": "shellscript"
    }
   },
   "outputs": [],
   "source": [
    "Hello, Alice!\n",
    "Hello, Bob!\n",
    "Hello, Charlie!"
   ]
  },
  {
   "cell_type": "markdown",
   "metadata": {},
   "source": [
    ":: `Example 2: Looping Over a Range of Numbers:` ::\n",
    "\n",
    "Using brace expansion:"
   ]
  },
  {
   "cell_type": "code",
   "execution_count": null,
   "metadata": {
    "vscode": {
     "languageId": "shellscript"
    }
   },
   "outputs": [],
   "source": [
    "for number in {1..5}\n",
    "do\n",
    "  echo \"Number is $number\"\n",
    "done"
   ]
  },
  {
   "cell_type": "markdown",
   "metadata": {},
   "source": [
    "This example prints numbers from 1 to 5, resulting in:"
   ]
  },
  {
   "cell_type": "code",
   "execution_count": null,
   "metadata": {
    "vscode": {
     "languageId": "shellscript"
    }
   },
   "outputs": [],
   "source": [
    "Number is 1\n",
    "Number is 2\n",
    "Number is 3\n",
    "Number is 4\n",
    "Number is 5"
   ]
  },
  {
   "cell_type": "markdown",
   "metadata": {},
   "source": [
    ":: `Example 3: Looping Over the Output of a Command:` ::"
   ]
  },
  {
   "cell_type": "code",
   "execution_count": null,
   "metadata": {
    "vscode": {
     "languageId": "shellscript"
    }
   },
   "outputs": [],
   "source": [
    "for file in $(ls)\n",
    "do\n",
    "  echo \"File: $file\"\n",
    "done"
   ]
  },
  {
   "cell_type": "markdown",
   "metadata": {},
   "source": [
    "This example lists all files in the current directory using the `ls` command, resulting in:"
   ]
  },
  {
   "cell_type": "code",
   "execution_count": null,
   "metadata": {
    "vscode": {
     "languageId": "shellscript"
    }
   },
   "outputs": [],
   "source": [
    "File: file1.txt\n",
    "File: file2.txt\n",
    "File: file3.txt"
   ]
  },
  {
   "cell_type": "markdown",
   "metadata": {},
   "source": [
    "These examples demonstrate different scenarios where `for` loops can be used in Bash scripting to iterate over lists or ranges and perform actions based on each item."
   ]
  },
  {
   "cell_type": "markdown",
   "metadata": {},
   "source": [
    ":: `Example 4: Looping Over a Sequence with Step` ::"
   ]
  },
  {
   "cell_type": "code",
   "execution_count": null,
   "metadata": {
    "vscode": {
     "languageId": "shellscript"
    }
   },
   "outputs": [],
   "source": [
    "for i in {0..10..2}\n",
    "do\n",
    "  echo \"Count: $i\"\n",
    "done"
   ]
  },
  {
   "cell_type": "markdown",
   "metadata": {},
   "source": [
    "This example prints even numbers from 0 to 10 using a step of 2, resulting in:"
   ]
  },
  {
   "cell_type": "code",
   "execution_count": null,
   "metadata": {
    "vscode": {
     "languageId": "shellscript"
    }
   },
   "outputs": [],
   "source": [
    "Count: 0\n",
    "Count: 2\n",
    "Count: 4\n",
    "Count: 6\n",
    "Count: 8\n",
    "Count: 10"
   ]
  },
  {
   "cell_type": "markdown",
   "metadata": {},
   "source": [
    ":: `Example 5: C-Style For Loop` ::"
   ]
  },
  {
   "cell_type": "code",
   "execution_count": null,
   "metadata": {
    "vscode": {
     "languageId": "shellscript"
    }
   },
   "outputs": [],
   "source": [
    "for ((i=0; i<=5; i++))\n",
    "do\n",
    "  echo \"Number: $i\"\n",
    "done"
   ]
  },
  {
   "cell_type": "markdown",
   "metadata": {},
   "source": [
    "This example demonstrates a C-style loop where `i` starts at 0, increments by 1, and continues until it reaches 5. The output will be:"
   ]
  },
  {
   "cell_type": "code",
   "execution_count": null,
   "metadata": {
    "vscode": {
     "languageId": "shellscript"
    }
   },
   "outputs": [],
   "source": [
    "Number: 0\n",
    "Number: 1\n",
    "Number: 2\n",
    "Number: 3\n",
    "Number: 4\n",
    "Number: 5"
   ]
  },
  {
   "cell_type": "markdown",
   "metadata": {},
   "source": [
    ":: `Example 6: Looping Through Files with a Specific Extension` ::"
   ]
  },
  {
   "cell_type": "code",
   "execution_count": null,
   "metadata": {
    "vscode": {
     "languageId": "shellscript"
    }
   },
   "outputs": [],
   "source": [
    "for img in *.jpg\n",
    "do\n",
    "  echo \"Processing $img\"\n",
    "  # some commands to process the image\n",
    "done"
   ]
  },
  {
   "cell_type": "markdown",
   "metadata": {},
   "source": [
    "In this example, the loop iterates over all the files in the current directory with a `.jpg` extension. For each image file, it prints \"Processing [filename]\" and then performs some commands to process the image."
   ]
  },
  {
   "cell_type": "markdown",
   "metadata": {},
   "source": [
    "❖ It's essential to understand how word splitting and globbing work in Bash to effectively use `for` loops.\n",
    "\n",
    "❖ Always quote your variables when possible to avoid issues with filenames or strings that contain spaces.\n",
    "\n",
    "\n",
    "`for` loops are versatile tools in Bash scripting, enabling you to automate repetitive tasks efficiently."
   ]
  },
  {
   "cell_type": "markdown",
   "metadata": {},
   "source": [
    ":: `While loops` ::\n",
    "\n",
    "In Bash scripting, `while` loops are used to repeatedly execute a block of commands as long as a certain condition is true. They are useful for tasks that need to continue until a particular state is reached or changed. Here's the basic syntax and some examples to illustrate their usage:\n",
    "\n",
    "\n",
    "`Basic Syntax:`"
   ]
  },
  {
   "cell_type": "code",
   "execution_count": null,
   "metadata": {
    "vscode": {
     "languageId": "shellscript"
    }
   },
   "outputs": [],
   "source": [
    "while [ condition ]\n",
    "do\n",
    "  # commands to execute while the condition is true\n",
    "done"
   ]
  },
  {
   "cell_type": "markdown",
   "metadata": {},
   "source": [
    ":: `Example 1: Basic While Loop:` ::"
   ]
  },
  {
   "cell_type": "code",
   "execution_count": null,
   "metadata": {
    "vscode": {
     "languageId": "shellscript"
    }
   },
   "outputs": [],
   "source": [
    "counter=1\n",
    "while [ $counter -le 5 ]\n",
    "do\n",
    "  echo \"Counter: $counter\"\n",
    "  ((counter++))\n",
    "done"
   ]
  },
  {
   "cell_type": "markdown",
   "metadata": {},
   "source": [
    "This example prints numbers from 1 to 5 using a `counter` variable that increments with each iteration.\n",
    "\n",
    ":: `Example 2: Reading Lines from a File:` ::"
   ]
  },
  {
   "cell_type": "code",
   "execution_count": null,
   "metadata": {
    "vscode": {
     "languageId": "shellscript"
    }
   },
   "outputs": [],
   "source": [
    "while read line\n",
    "do\n",
    "  echo \"Line: $line\"\n",
    "done < input.txt"
   ]
  },
  {
   "cell_type": "markdown",
   "metadata": {},
   "source": [
    "This example reads each line from a file named ﻿input.txt and prints it.\n",
    "\n",
    ":: `Example 3: Waiting for a File to Appear:` ::"
   ]
  },
  {
   "cell_type": "code",
   "execution_count": null,
   "metadata": {
    "vscode": {
     "languageId": "shellscript"
    }
   },
   "outputs": [],
   "source": [
    "while [ ! -f /tmp/myfile ]\n",
    "do\n",
    "  echo \"Waiting for file...\"\n",
    "  sleep 1\n",
    "done"
   ]
  },
  {
   "cell_type": "markdown",
   "metadata": {},
   "source": [
    "This example waits for a file named `myfile` to appear in the `/tmp` directory. It repeatedly checks if the file exists every second until it does.\n",
    "\n",
    ":: `Example 4: Infinite Loop:` ::"
   ]
  },
  {
   "cell_type": "code",
   "execution_count": null,
   "metadata": {
    "vscode": {
     "languageId": "shellscript"
    }
   },
   "outputs": [],
   "source": [
    "while true\n",
    "do\n",
    "  echo \"Press [CTRL+C] to stop...\"\n",
    "  sleep 1\n",
    "done"
   ]
  },
  {
   "cell_type": "markdown",
   "metadata": {},
   "source": [
    "This example demonstrates an infinite loop that continuously prints a message until it is interrupted by pressing Ctrl+C.\n",
    "\n",
    "These examples demonstrate different use cases for `while` loops in Bash scripting. They allow you to execute a block of commands as long as a condition is true or until a particular state is achieved."
   ]
  },
  {
   "cell_type": "markdown",
   "metadata": {},
   "source": [
    ":: `Example 5: Loop Until a Command Succeeds` ::"
   ]
  },
  {
   "cell_type": "code",
   "execution_count": null,
   "metadata": {
    "vscode": {
     "languageId": "shellscript"
    }
   },
   "outputs": [],
   "source": [
    "until ping -c 1 google.com\n",
    "do\n",
    "  echo \"Waiting for network...\"\n",
    "  sleep 1\n",
    "done"
   ]
  },
  {
   "cell_type": "markdown",
   "metadata": {},
   "source": [
    "This example uses an until loop to keep trying to ping `google.com` until the ping command succeeds. It will print \"Waiting for network...\" and sleep for 1 second in each iteration until the ping is successful."
   ]
  },
  {
   "cell_type": "markdown",
   "metadata": {},
   "source": [
    "**Notes:**\n",
    "\n",
    "❖ The condition in the `until` loop is evaluated before each iteration. If the condition is false at the start, the commands inside the loop will execute at least once.\n",
    "\n",
    "❖ Ensure that the condition in a `while` or `until` loop will eventually become false; otherwise, you may create an infinite loop.\n",
    "\n",
    "❖ `((counter++))` is a shorthand notation to increment the value of ﻿counter by 1 in each iteration.\n",
    "\n",
    "❖ In shell scripting, `0` is often treated as `true` (especially return statuses), and non-zero values are treated as `false`. This may be different from other programming languages.\n",
    "\n",
    "While loops are particularly useful when waiting for specific conditions to be met or when performing a task a variable number of times until a specific state is achieved."
   ]
  },
  {
   "cell_type": "markdown",
   "metadata": {},
   "source": [
    ":: `Case statements` ::\n",
    "\n",
    "In Bash scripting, `case` statements are used to make decisions based on specific values of a variable. They are similar to switch-case statements in other programming languages. Here's an example to illustrate how to use them:"
   ]
  },
  {
   "cell_type": "code",
   "execution_count": null,
   "metadata": {
    "vscode": {
     "languageId": "shellscript"
    }
   },
   "outputs": [],
   "source": [
    "echo \"Enter a number between 1 and 3:\"\n",
    "read number\n",
    "\n",
    "case $number in\n",
    "    1)\n",
    "        echo \"You entered number 1\"\n",
    "        ;;\n",
    "    2)\n",
    "        echo \"You entered number 2\"\n",
    "        ;;\n",
    "    3)\n",
    "        echo \"You entered number 3\"\n",
    "        ;;\n",
    "    *)\n",
    "        echo \"You did not enter a number between 1 and 3\"\n",
    "        ;;\n",
    "esac\n"
   ]
  },
  {
   "cell_type": "markdown",
   "metadata": {},
   "source": [
    "In this script:\n",
    "❖ The `case` statement starts with the variable `$number` that we want to check.\n",
    "\n",
    "❖ Each pattern to match (`1`, `2`, `3`) is followed by a right parenthesis.\n",
    "\n",
    "❖ The `;;` syntax ends the action for each particular pattern.\n",
    "\n",
    "❖ The `*` pattern serves as the default case when none of the other patterns match.\n",
    "\n",
    "❖ The `esac` keyword (which is `case` spelled backwards) ends the `case` statement.\n",
    "\n",
    "This script prompts the user to enter a number, and then uses the `case` statement to provide a response based on the number entered. If the number is not `1`, `2`, or `3`, it falls into the default case."
   ]
  },
  {
   "cell_type": "markdown",
   "metadata": {},
   "source": [
    "##### **Positional parameters**\n",
    "\n",
    "In Bash scripting, positional parameters are variables that hold the arguments passed to a script or a function. They are named numerically: `$1`, `$2`, `$3`, and so on. `$0` represents the script's name itself. This is useful for writing scripts that can accept different input values when executed.\n",
    "\n",
    "**Here's a simple example of a script using positional parameters:**"
   ]
  },
  {
   "cell_type": "code",
   "execution_count": null,
   "metadata": {
    "vscode": {
     "languageId": "shellscript"
    }
   },
   "outputs": [],
   "source": [
    "echo \"Script Name: $0\"\n",
    "echo \"First Argument: $1\"\n",
    "echo \"Second Argument: $2\"\n",
    "echo \"Third Argument: $3\""
   ]
  },
  {
   "cell_type": "markdown",
   "metadata": {},
   "source": [
    "Let's say you save this script as `myscript.sh`. You can run it with arguments like this:"
   ]
  },
  {
   "cell_type": "code",
   "execution_count": null,
   "metadata": {
    "vscode": {
     "languageId": "shellscript"
    }
   },
   "outputs": [],
   "source": [
    "bash myscript.sh apple orange banana"
   ]
  },
  {
   "cell_type": "markdown",
   "metadata": {},
   "source": [
    "The output would be:"
   ]
  },
  {
   "cell_type": "code",
   "execution_count": null,
   "metadata": {
    "vscode": {
     "languageId": "shellscript"
    }
   },
   "outputs": [],
   "source": [
    "Script Name: myscript.sh\n",
    "First Argument: apple\n",
    "Second Argument: orange\n",
    "Third Argument: banana"
   ]
  },
  {
   "cell_type": "markdown",
   "metadata": {},
   "source": [
    "In this case:\n",
    "\n",
    "❖ `$0` represents the script's name (`myscript.sh`).\n",
    "\n",
    "❖ `$1`, `$2`, and `$3` represent the first, second, and third arguments provided (`apple`, `orange`, `banana`)."
   ]
  },
  {
   "cell_type": "markdown",
   "metadata": {},
   "source": [
    "In addition to specific positional parameters, you can use `$#` to get the total number of positional parameters (excluding `$0`) and `$@` or `$*` to access all the positional parameters as a list."
   ]
  },
  {
   "cell_type": "markdown",
   "metadata": {},
   "source": [
    "**Note**: It's good practice to quote your variables whenever possible to handle cases where arguments may contain spaces or special characters.\n",
    "\n",
    "Using positional parameters allows you to create flexible scripts that can handle different input values passed at runtime. You can access and manipulate these values within your script to perform various tasks."
   ]
  },
  {
   "cell_type": "markdown",
   "metadata": {},
   "source": [
    ":: `Practical Example` ::\n",
    "\n",
    "If you have a folder already added to the PATH variable in your system, and this folder contains a bunch of Bash scripts, you can use a simple trick to run those scripts from anywhere without the need to copy them to a different location. Here's what you can do:\n",
    "\t\n",
    "  1. Add the following code at the beginning of your script:"
   ]
  },
  {
   "cell_type": "code",
   "execution_count": null,
   "metadata": {
    "vscode": {
     "languageId": "shellscript"
    }
   },
   "outputs": [],
   "source": [
    "location=$1\n",
    "cd \"$location\""
   ]
  },
  {
   "cell_type": "markdown",
   "metadata": {},
   "source": [
    "  2. Make the script executable in the script folder.\n",
    "  \n",
    "  3. When you run the script from anywhere in the system, provide the location where you want to execute the script from as an argument. For example:"
   ]
  },
  {
   "cell_type": "code",
   "execution_count": null,
   "metadata": {
    "vscode": {
     "languageId": "shellscript"
    }
   },
   "outputs": [],
   "source": [
    "convert.sh 'user/document/folder/'"
   ]
  },
  {
   "cell_type": "markdown",
   "metadata": {},
   "source": [
    "In this case, the script will execute the `convert.sh` script in the directory `user/document/folder/`. The script will automatically navigate to the specified directory and execute the rest of the script.\n",
    "\n",
    "Another powerful feature is the ability to store the output of a command in a variable. Here's an example:"
   ]
  },
  {
   "cell_type": "code",
   "execution_count": null,
   "metadata": {
    "vscode": {
     "languageId": "shellscript"
    }
   },
   "outputs": [],
   "source": [
    "user=$(whoami)"
   ]
  },
  {
   "cell_type": "markdown",
   "metadata": {},
   "source": [
    "You can use the `user` variable later in the script. For instance:"
   ]
  },
  {
   "cell_type": "code",
   "execution_count": null,
   "metadata": {
    "vscode": {
     "languageId": "shellscript"
    }
   },
   "outputs": [],
   "source": [
    "echo \"You are currently logged in as $user\""
   ]
  },
  {
   "cell_type": "markdown",
   "metadata": {},
   "source": [
    "This will display the message \"You are currently logged in as [username].\"\n",
    "\n",
    "By utilizing these techniques, you can make your scripts more dynamic and enhance their functionality.\n",
    "\n",
    "##### **How to Run Bash Scripts from Anywhere on the System?**\n",
    "\n",
    "To run a Bash script from anywhere on your system, you can follow these steps:"
   ]
  },
  {
   "cell_type": "markdown",
   "metadata": {},
   "source": [
    "  1. Make the Script Executable:\n",
    "\n",
    "Make sure your script has the executable permission. You can use the `chmod` command to add the executable permission. For example:"
   ]
  },
  {
   "cell_type": "code",
   "execution_count": null,
   "metadata": {
    "vscode": {
     "languageId": "shellscript"
    }
   },
   "outputs": [],
   "source": [
    "chmod +x myscript.sh"
   ]
  },
  {
   "cell_type": "markdown",
   "metadata": {},
   "source": [
    "  2. Place the Script in a Directory in the PATH \n",
    "  \n",
    ":: `Place the Script in a Directory in the PATH Environment Variable:` ::\n",
    "\n",
    "The PATH environment variable contains a list of directories that the system searches for executable files. By placing your script in one of these directories, you can run it from anywhere. \n",
    "\n",
    "Common directories in the PATH include `/usr/local/bin` or `~/bin` (if it's included in your PATH).\n",
    "\n",
    "To move your script to one of these directories, you can use the following command:"
   ]
  },
  {
   "cell_type": "code",
   "execution_count": null,
   "metadata": {
    "vscode": {
     "languageId": "shellscript"
    }
   },
   "outputs": [],
   "source": [
    "mv myscript.sh /usr/local/bin"
   ]
  },
  {
   "cell_type": "markdown",
   "metadata": {},
   "source": [
    "Alternatively, you can add a custom directory to your PATH. To add a custom directory (e.g., `~/my_scripts`) to your PATH, add the following line to your `~/.bash_profile`, `~/.bashrc`, or `~/.zshrc` file (depending on your shell and setup):"
   ]
  },
  {
   "cell_type": "code",
   "execution_count": null,
   "metadata": {
    "vscode": {
     "languageId": "shellscript"
    }
   },
   "outputs": [],
   "source": [
    "export PATH=$PATH:~/my_scripts"
   ]
  },
  {
   "cell_type": "markdown",
   "metadata": {},
   "source": [
    "After adding the directory to your PATH, you'll need to either restart your terminal or run the following command to apply the changes:"
   ]
  },
  {
   "cell_type": "code",
   "execution_count": null,
   "metadata": {
    "vscode": {
     "languageId": "shellscript"
    }
   },
   "outputs": [],
   "source": [
    "source ~/.bash_profile"
   ]
  },
  {
   "cell_type": "markdown",
   "metadata": {},
   "source": [
    "Once you've done these steps, you should be able to run your script from anywhere by simply typing its name (without the file extension). Make sure the script starts with the shebang `#!/bin/bash` to indicate that it should be run with Bash."
   ]
  },
  {
   "cell_type": "markdown",
   "metadata": {},
   "source": [
    ":: `If I Made the Script Executable and Moved or Edited the Script File, Will It Remain Executable?` ::\n",
    "\n",
    "If you move the script after making it executable, the executable permission will typically be retained. However, if you edit the script and save it using certain text editors or IDEs, it might alter the permissions. Some editors create a new file and replace the old one, which can sometimes reset the permissions.\n",
    "\n",
    "To ensure the script remains executable, you can check its permissions after To ensure the script remains executable, you can check its permissions after moving or editing it using the `ls -l` command. For example:\n"
   ]
  },
  {
   "cell_type": "code",
   "execution_count": null,
   "metadata": {
    "vscode": {
     "languageId": "shellscript"
    }
   },
   "outputs": [],
   "source": [
    "ls -l myscript.sh"
   ]
  },
  {
   "cell_type": "markdown",
   "metadata": {},
   "source": [
    "If the script's permissions are modified and it is no longer executable, you can use the `chmod` command to add the executable permission again:"
   ]
  },
  {
   "cell_type": "code",
   "execution_count": null,
   "metadata": {
    "vscode": {
     "languageId": "shellscript"
    }
   },
   "outputs": [],
   "source": [
    "chmod +x myscript.sh"
   ]
  },
  {
   "cell_type": "markdown",
   "metadata": {},
   "source": [
    "This will reinstate the executable permission for the script.\n",
    "\n",
    "Regarding the `-l` option in the `ls` command, it stands for \"long format\". When used with `ls`, it displays detailed information about the files and directories. \n",
    "\n",
    "In the context of `ls -l myscript.sh`, it would show information such as permissions, ownership, size, and modification time for the `myscript.sh` file."
   ]
  },
  {
   "cell_type": "markdown",
   "metadata": {},
   "source": [
    "1.\t`File Type and Permissions`: This is a string of characters at the start, like `-rw-r--r--`. The first character indicates the file type (e.g., `-` for regular files, `d` for directories). \n",
    "\n",
    "The next nine characters show the permissions in three sets of three: the first set for the owner, the second for the group, and the third for others. Each set can have `r` (read), `w` (write), and `x` (execute) permissions.\n",
    "\n",
    "2.\t`Number of Links`: This number represents the count of hard links referring to the file.\n",
    "\n",
    "3.\t`Owner`: This is the username of the file's owner.\n",
    "\n",
    "4.\t`Group`: This is the group to which the file belongs.\n",
    "\n",
    "5.\t`Size`: The size of the file in bytes.\n",
    "\n",
    "6.\t`Modification Time`: The timestamp indicating when the file was last modified.\n",
    "\n",
    "7.\t`File Name`: The name of the file.\n",
    "\n",
    "For example, if you see `-rw-r--r-- 1` user group 4096 Apr 1 12:00 myscript.sh, it means:\n",
    "\n",
    " ❖ The file type is a regular file (`-`).\n",
    "\n",
    " ❖ The file has read and write permissions for the owner (`rw-`), read-only permissions for the group (`r--`), and read-only permissions for others (`r--`).\n",
    "\n",
    " ❖ The file has 1 hard link.\n",
    "\n",
    " ❖ The file is owned by the user named `user`.\n",
    "\n",
    " ❖ The file belongs to the group named `group`.\n",
    "\n",
    " ❖ The file size is 4096 bytes.\n",
    "\n",
    " ❖ The file was last modified on April 1 at 12:00.\n",
    "\n",
    " ❖ The file is named `myscript.sh`.\n",
    "\n",
    "\n",
    "\n"
   ]
  }
 ],
 "metadata": {
  "language_info": {
   "name": "python"
  }
 },
 "nbformat": 4,
 "nbformat_minor": 2
}
